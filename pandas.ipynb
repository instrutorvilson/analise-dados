{
 "cells": [
  {
   "cell_type": "code",
   "execution_count": 2,
   "id": "3ade3f24-6e52-4cd5-b6db-3e87edef8b01",
   "metadata": {},
   "outputs": [
    {
     "name": "stdout",
     "output_type": "stream",
     "text": [
      "    cars  passings brand\n",
      "0    BMW         3     B\n",
      "1  Volvo         7     V\n",
      "2   Ford         2     F\n"
     ]
    }
   ],
   "source": [
    "import pandas\n",
    "\n",
    "mydataset = {\n",
    "  'cars': [\"BMW\", \"Volvo\", \"Ford\"],\n",
    "  'passings': [3, 7, 2],\n",
    "  'brand': [\"B\",\"V\",\"F\"]\n",
    "}\n",
    "\n",
    "myvar = pandas.DataFrame(mydataset)\n",
    "\n",
    "print(myvar)"
   ]
  },
  {
   "cell_type": "code",
   "execution_count": 7,
   "id": "04a81562-75ad-4a32-811b-ece8620adff6",
   "metadata": {},
   "outputs": [
    {
     "name": "stdout",
     "output_type": "stream",
     "text": [
      "<class 'pandas.core.series.Series'>\n",
      "0    1\n",
      "1    7\n",
      "2    2\n",
      "dtype: int64\n",
      "7\n",
      "7\n"
     ]
    }
   ],
   "source": [
    "import pandas as pd\n",
    "\n",
    "a = [1, 7, 2]\n",
    "myvar = pd.Series(a)\n",
    "print(type(myvar))\n",
    "print(myvar)\n",
    "print(myvar[1])\n",
    "\n",
    "myvars = pd.Series(a, index = [\"x\", \"y\", \"z\"])\n",
    "print(myvars['y'])"
   ]
  },
  {
   "cell_type": "code",
   "execution_count": 8,
   "id": "e78e5e77-f077-41d6-8f58-a42e697cc2b1",
   "metadata": {},
   "outputs": [
    {
     "name": "stdout",
     "output_type": "stream",
     "text": [
      "day1    420\n",
      "day2    380\n",
      "day3    390\n",
      "dtype: int64\n"
     ]
    }
   ],
   "source": [
    "import pandas as pd\n",
    "\n",
    "calories = {\"day1\": 420, \"day2\": 380, \"day3\": 390}\n",
    "\n",
    "myvar = pd.Series(calories)\n",
    "\n",
    "print(myvar)"
   ]
  },
  {
   "cell_type": "code",
   "execution_count": 30,
   "id": "79496404-ecd9-4f4e-89fc-07c6e893f7fd",
   "metadata": {},
   "outputs": [
    {
     "name": "stdout",
     "output_type": "stream",
     "text": [
      "    Nome  nota 1  nota2  nota3\n",
      "0    ana     7.5    6.5   10.0\n",
      "1   joÆo     6.5    6.2    9.5\n",
      "2  pedro     8.0    9.5    5.5\n",
      "3    ana     7.5    6.5   10.0\n",
      "4   joÆo     6.5    6.2    9.5\n",
      "    Nome  nota 1  nota2  nota3\n",
      "7   joÆo     6.5    6.2    9.5\n",
      "8  pedro     8.0    9.5    5.5\n"
     ]
    }
   ],
   "source": [
    "import pandas as pd\n",
    "df = pd.read_csv('notas.csv', delimiter=';', encoding='latin-1')\n",
    "print(df.head()) \n",
    "print(df.tail(2))\n"
   ]
  },
  {
   "cell_type": "code",
   "execution_count": null,
   "id": "92ce19bd-eb2d-4241-a1d2-5576b7dd5c5d",
   "metadata": {},
   "outputs": [],
   "source": []
  }
 ],
 "metadata": {
  "kernelspec": {
   "display_name": "Python 3 (ipykernel)",
   "language": "python",
   "name": "python3"
  },
  "language_info": {
   "codemirror_mode": {
    "name": "ipython",
    "version": 3
   },
   "file_extension": ".py",
   "mimetype": "text/x-python",
   "name": "python",
   "nbconvert_exporter": "python",
   "pygments_lexer": "ipython3",
   "version": "3.12.6"
  }
 },
 "nbformat": 4,
 "nbformat_minor": 5
}
