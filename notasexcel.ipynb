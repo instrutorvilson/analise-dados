{
 "cells": [
  {
   "cell_type": "code",
   "execution_count": 3,
   "id": "0e5ca6e2-b416-4936-a91f-27cd5824c922",
   "metadata": {},
   "outputs": [
    {
     "name": "stdout",
     "output_type": "stream",
     "text": [
      "['nome;idade;nota']\n",
      "['ana;20;7.5']\n",
      "['Carla;21;8.5']\n",
      "['Bruno;19;9.5']\n"
     ]
    }
   ],
   "source": [
    "import csv\n",
    "\n",
    "with open('notas.csv',newline='', encoding='utf-8') as f:\n",
    "    leitor = csv.reader(f)\n",
    "    for linha in leitor:\n",
    "        print(linha)\n"
   ]
  },
  {
   "cell_type": "code",
   "execution_count": null,
   "id": "bb3fd7ea-d89b-4fc6-a26f-f39bc130380f",
   "metadata": {},
   "outputs": [],
   "source": []
  }
 ],
 "metadata": {
  "kernelspec": {
   "display_name": "Python 3 (ipykernel)",
   "language": "python",
   "name": "python3"
  },
  "language_info": {
   "codemirror_mode": {
    "name": "ipython",
    "version": 3
   },
   "file_extension": ".py",
   "mimetype": "text/x-python",
   "name": "python",
   "nbconvert_exporter": "python",
   "pygments_lexer": "ipython3",
   "version": "3.12.6"
  }
 },
 "nbformat": 4,
 "nbformat_minor": 5
}
