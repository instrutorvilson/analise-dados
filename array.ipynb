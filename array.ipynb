{
 "cells": [
  {
   "cell_type": "code",
   "execution_count": 2,
   "id": "b9708ac9-8055-47bf-a03b-7083d6ff7b80",
   "metadata": {},
   "outputs": [
    {
     "name": "stdout",
     "output_type": "stream",
     "text": [
      "[ 0  1  2  3  4  5  6  7  8  9 10 11 12 13 14 15 16 17 18 19 20 21 22 23\n",
      " 24 25 26 27 28 29 30 31 32 33 34 35 36 37 38 39 40 41 42 43 44 45 46 47\n",
      " 48 49]\n",
      "Média: 24.5\n",
      "Raiz: [0.         1.         1.41421356 1.73205081 2.         2.23606798\n",
      " 2.44948974 2.64575131 2.82842712 3.         3.16227766 3.31662479\n",
      " 3.46410162 3.60555128 3.74165739 3.87298335 4.         4.12310563\n",
      " 4.24264069 4.35889894 4.47213595 4.58257569 4.69041576 4.79583152\n",
      " 4.89897949 5.         5.09901951 5.19615242 5.29150262 5.38516481\n",
      " 5.47722558 5.56776436 5.65685425 5.74456265 5.83095189 5.91607978\n",
      " 6.         6.08276253 6.164414   6.244998   6.32455532 6.40312424\n",
      " 6.4807407  6.55743852 6.63324958 6.70820393 6.78232998 6.8556546\n",
      " 6.92820323 7.        ]\n",
      "Max: 49\n",
      "Min: 0\n"
     ]
    }
   ],
   "source": [
    "import numpy as np\n",
    "\n",
    "a = np.arange(50)\n",
    "print(a)\n",
    "print(f\"Média: {np.mean(a)}\")\n",
    "print(f\"Raiz: {np.sqrt(a)}\")\n",
    "print(f\"Max: {np.max(a)}\")\n",
    "print(f\"Min: {np.min(a)}\")\n"
   ]
  },
  {
   "cell_type": "code",
   "execution_count": 6,
   "id": "bdf37137-de7c-4e73-b043-d718a25d0c67",
   "metadata": {},
   "outputs": [
    {
     "name": "stdout",
     "output_type": "stream",
     "text": [
      "[ 0  1  2  3  4  5  6  7  8  9 10 11 12 13 14 15 16 17 18 19 20 21 22 23\n",
      " 24 25 26 27 28 29 30 31 32 33 34 35 36 37 38 39 40 41 42 43 44 45 46 47\n",
      " 48 49]\n",
      "[[ 0  1  2  3  4  5  6  7  8  9]\n",
      " [10 11 12 13 14 15 16 17 18 19]\n",
      " [20 21 22 23 24 25 26 27 28 29]\n",
      " [30 31 32 33 34 35 36 37 38 39]\n",
      " [40 41 42 43 44 45 46 47 48 49]]\n",
      "1225\n",
      "[100 105 110 115 120 125 130 135 140 145]\n",
      "[ 45 145 245 345 445]\n"
     ]
    }
   ],
   "source": [
    "print(a)\n",
    "\n",
    "b = a.reshape(5,10)\n",
    "print(b)\n",
    "print(np.sum(b))\n",
    "print(np.sum(b, axis=0))\n",
    "print(np.sum(b, axis=1))\n"
   ]
  },
  {
   "cell_type": "code",
   "execution_count": 8,
   "id": "841c8a38-165a-47dc-b681-e6905140ff6b",
   "metadata": {},
   "outputs": [
    {
     "name": "stdout",
     "output_type": "stream",
     "text": [
      "(3, 4)\n"
     ]
    }
   ],
   "source": [
    "import numpy as np\n",
    "\n",
    "arr = np.array([[1, 2, 3, 4], [5, 6, 7, 8], [5, 6, 7, 8]])\n",
    "\n",
    "print(arr.shape)"
   ]
  },
  {
   "cell_type": "code",
   "execution_count": 9,
   "id": "6d29efbc-1fd8-4f1e-be56-9679b9c780b2",
   "metadata": {},
   "outputs": [
    {
     "name": "stdout",
     "output_type": "stream",
     "text": [
      "1\n",
      "2\n",
      "3\n"
     ]
    }
   ],
   "source": [
    "import numpy as np\n",
    "\n",
    "arr = np.array([1, 2, 3])\n",
    "\n",
    "for x in arr:\n",
    "  print(x)"
   ]
  },
  {
   "cell_type": "code",
   "execution_count": 10,
   "id": "b1d4ef9a-3bd7-4b6b-b649-ee18b68c0725",
   "metadata": {},
   "outputs": [
    {
     "name": "stdout",
     "output_type": "stream",
     "text": [
      "[1 2 3]\n",
      "[4 5 6]\n"
     ]
    }
   ],
   "source": [
    "import numpy as np\n",
    "\n",
    "arr = np.array([[1, 2, 3], [4, 5, 6]])\n",
    "\n",
    "for x in arr:\n",
    "  print(x)"
   ]
  },
  {
   "cell_type": "code",
   "execution_count": 11,
   "id": "c451eb08-ddb6-433b-ae77-05f09a415985",
   "metadata": {},
   "outputs": [
    {
     "name": "stdout",
     "output_type": "stream",
     "text": [
      "1\n",
      "2\n",
      "3\n",
      "4\n",
      "5\n",
      "6\n"
     ]
    }
   ],
   "source": [
    "import numpy as np\n",
    "\n",
    "arr = np.array([[1, 2, 3], [4, 5, 6]])\n",
    "\n",
    "for x in arr:\n",
    "  for y in x:\n",
    "    print(y)\n",
    "    "
   ]
  },
  {
   "cell_type": "code",
   "execution_count": 16,
   "id": "4c17fd62-374d-471f-a7b0-62f32ee413be",
   "metadata": {},
   "outputs": [
    {
     "name": "stdout",
     "output_type": "stream",
     "text": [
      "[1 2 3 4 5 6]\n",
      "[[1 2]\n",
      " [3 4]\n",
      " [5 6]]\n"
     ]
    }
   ],
   "source": [
    "import numpy as np\n",
    "\n",
    "arr1 = np.array([1, 2, 3])\n",
    "\n",
    "arr2 = np.array([4, 5, 6])\n",
    "\n",
    "arr = np.concatenate((arr1, arr2))\n",
    "\n",
    "print(arr)\n",
    "\n",
    "ab = arr.reshape(3,2)\n",
    "print(ab)"
   ]
  },
  {
   "cell_type": "code",
   "execution_count": 21,
   "id": "d9da290a-1107-4363-bd70-141f30bd1f2d",
   "metadata": {},
   "outputs": [
    {
     "name": "stdout",
     "output_type": "stream",
     "text": [
      "[[ 1  2  5  6 15 16]\n",
      " [ 3  4  7  8 17 18]]\n",
      "[[ 1  2]\n",
      " [ 3  4]\n",
      " [ 5  6]\n",
      " [ 7  8]\n",
      " [15 16]\n",
      " [17 18]]\n"
     ]
    }
   ],
   "source": [
    "import numpy as np\n",
    "\n",
    "arr1 = np.array([[1, 2], [3, 4]])\n",
    "\n",
    "arr2 = np.array([[5, 6], [7, 8]])\n",
    "\n",
    "arr3 = np.array([[15, 16], [17, 18]])\n",
    "\n",
    "arr = np.concatenate((arr1, arr2, arr3), axis=1)\n",
    "print(arr)\n",
    "\n",
    "ar = np.concatenate((arr1, arr2, arr3))\n",
    "print(ar)"
   ]
  },
  {
   "cell_type": "code",
   "execution_count": 26,
   "id": "a8dc665a-f2b9-4890-97fd-f2889b75dc84",
   "metadata": {},
   "outputs": [
    {
     "name": "stdout",
     "output_type": "stream",
     "text": [
      "[array([1, 2, 3, 4]), array([ 5,  6, 14]), array([15, 16, 17])]\n",
      "<class 'list'>\n",
      "[1 2 3 4]\n",
      "6\n"
     ]
    }
   ],
   "source": [
    "import numpy as np\n",
    "\n",
    "arr = np.array([1, 2, 3, 4, 5, 6, 14, 15, 16, 17 ])\n",
    "\n",
    "newarr = np.array_split(arr, 3)\n",
    "\n",
    "print(newarr)\n",
    "print(type(newarr))\n",
    "list1 = newarr[0]\n",
    "print(list1)\n",
    "print(newarr[1][1])"
   ]
  },
  {
   "cell_type": "code",
   "execution_count": null,
   "id": "5fa5ad24-d7ae-473c-b575-b1f4ed0aa068",
   "metadata": {},
   "outputs": [],
   "source": []
  }
 ],
 "metadata": {
  "kernelspec": {
   "display_name": "Python 3 (ipykernel)",
   "language": "python",
   "name": "python3"
  },
  "language_info": {
   "codemirror_mode": {
    "name": "ipython",
    "version": 3
   },
   "file_extension": ".py",
   "mimetype": "text/x-python",
   "name": "python",
   "nbconvert_exporter": "python",
   "pygments_lexer": "ipython3",
   "version": "3.12.6"
  }
 },
 "nbformat": 4,
 "nbformat_minor": 5
}
