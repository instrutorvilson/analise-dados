{
 "cells": [
  {
   "cell_type": "code",
   "execution_count": 3,
   "id": "2b0dd83f-7c48-4ee0-9d34-39674502fee4",
   "metadata": {},
   "outputs": [
    {
     "name": "stdout",
     "output_type": "stream",
     "text": [
      "Hola mundo\n"
     ]
    }
   ],
   "source": [
    "print('Hola mundo')"
   ]
  },
  {
   "cell_type": "markdown",
   "id": "c28d4d01-bd92-46dd-892f-ce9f367e3016",
   "metadata": {},
   "source": [
    "**Explicação:**ola pessoal"
   ]
  },
  {
   "cell_type": "code",
   "execution_count": 8,
   "id": "9958a711-e404-424e-9f03-eb6a274d0214",
   "metadata": {},
   "outputs": [
    {
     "name": "stdout",
     "output_type": "stream",
     "text": [
      "[1 2 3 4 5]\n",
      "1 3\n",
      "2.3.4\n",
      "<class 'numpy.ndarray'>\n"
     ]
    }
   ],
   "source": [
    "import numpy as np\n",
    "\n",
    "arr = np.array([1, 2, 3, 4, 5])\n",
    "\n",
    "print(arr)\n",
    "print(arr[0],arr[2])\n",
    "\n",
    "print(np.__version__)\n",
    "print(type(arr))"
   ]
  },
  {
   "cell_type": "code",
   "execution_count": 14,
   "id": "a618fb20-3218-4e8a-8068-8845ea7a2df4",
   "metadata": {},
   "outputs": [
    {
     "name": "stdout",
     "output_type": "stream",
     "text": [
      "2\n",
      "9\n"
     ]
    }
   ],
   "source": [
    "import numpy as np\n",
    "\n",
    "arr = np.array([\n",
    "    [1,2,3,4,5], \n",
    "    [6,7,8,9,10]\n",
    "])\n",
    "\n",
    "print(arr[0, 1])\n",
    "print(arr[1,3])"
   ]
  },
  {
   "cell_type": "code",
   "execution_count": 17,
   "id": "9f9c22ee-b8b4-4dcc-87cf-d1a7b967a017",
   "metadata": {},
   "outputs": [
    {
     "name": "stdout",
     "output_type": "stream",
     "text": [
      "15\n"
     ]
    }
   ],
   "source": [
    "import numpy as np\n",
    "\n",
    "arr = np.array([ [[1, 2, 3], [4, 5, 6]], [[7, 8, 9], [10, 11, 12]], [[7, 8, 9], [10, 11, 15]] ])\n",
    "\n",
    "print(arr[2, 1, 2])"
   ]
  },
  {
   "cell_type": "code",
   "execution_count": 25,
   "id": "1399aa3c-7a5b-426d-9063-3111bfa63b5f",
   "metadata": {},
   "outputs": [
    {
     "name": "stdout",
     "output_type": "stream",
     "text": [
      "[12 13 14 15]\n",
      "[11 13 15]\n",
      "[11 12 13 14 15 16]\n"
     ]
    }
   ],
   "source": [
    "import numpy as np\n",
    "\n",
    "arr = np.array([11, 12, 13, 14, 15, 16, 17])\n",
    "print(arr[1:5])\n",
    "print(arr[0:5:2])\n",
    "print(arr[:6])"
   ]
  },
  {
   "cell_type": "code",
   "execution_count": null,
   "id": "25c183cc-92d5-4054-8f7e-3c11792f8e23",
   "metadata": {},
   "outputs": [],
   "source": []
  }
 ],
 "metadata": {
  "kernelspec": {
   "display_name": "Python 3 (ipykernel)",
   "language": "python",
   "name": "python3"
  },
  "language_info": {
   "codemirror_mode": {
    "name": "ipython",
    "version": 3
   },
   "file_extension": ".py",
   "mimetype": "text/x-python",
   "name": "python",
   "nbconvert_exporter": "python",
   "pygments_lexer": "ipython3",
   "version": "3.12.6"
  }
 },
 "nbformat": 4,
 "nbformat_minor": 5
}
