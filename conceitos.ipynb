{
 "cells": [
  {
   "cell_type": "code",
   "execution_count": 1,
   "id": "dc8c7e91-6baa-46e8-9c68-61630df03a0b",
   "metadata": {},
   "outputs": [
    {
     "name": "stdout",
     "output_type": "stream",
     "text": [
      "olá mundo\n"
     ]
    }
   ],
   "source": [
    "print(\"olá mundo\")"
   ]
  },
  {
   "cell_type": "markdown",
   "id": "a517b40b-19e5-440e-a6c4-0aae8abe38b6",
   "metadata": {},
   "source": [
    "**Ola:** o print mostra dados na tela\n"
   ]
  },
  {
   "cell_type": "code",
   "execution_count": 2,
   "id": "50fd4a53-0487-4f24-b04c-fdcc7bc101ab",
   "metadata": {},
   "outputs": [
    {
     "name": "stdout",
     "output_type": "stream",
     "text": [
      "Área do círculo = 78.54\n"
     ]
    }
   ],
   "source": [
    "import math\n",
    "\n",
    "raio = 5\n",
    "area = math.pi * raio**2\n",
    "print(f\"Área do círculo = {area:.2f}\")"
   ]
  },
  {
   "cell_type": "markdown",
   "id": "2a6c13f7-b5fd-4d19-8066-630691894f5a",
   "metadata": {},
   "source": [
    "**Explicação:** para calcular o raio deve mutiplicar o PI pelo raio elevado ao quadrado"
   ]
  },
  {
   "cell_type": "code",
   "execution_count": 6,
   "id": "c30bbb88-1f50-493d-aa24-f9a56b94877b",
   "metadata": {},
   "outputs": [
    {
     "name": "stdout",
     "output_type": "stream",
     "text": [
      "apple\n",
      "<class 'list'>\n"
     ]
    }
   ],
   "source": [
    "x = [\"apple\", \"banana\", \"cherry\"]\n",
    "print(x[0])\n",
    "print(type(x))"
   ]
  },
  {
   "cell_type": "code",
   "execution_count": 7,
   "id": "90c728d2-4420-4744-aeae-745b50d50dcf",
   "metadata": {},
   "outputs": [
    {
     "name": "stdout",
     "output_type": "stream",
     "text": [
      "banana\n",
      "<class 'tuple'>\n"
     ]
    }
   ],
   "source": [
    "x = (\"apple\", \"banana\", \"cherry\")\n",
    "print(x[1])\n",
    "print(type(x))"
   ]
  },
  {
   "cell_type": "code",
   "execution_count": 24,
   "id": "37c08fb0-be61-4241-968a-d0c3e4a78062",
   "metadata": {},
   "outputs": [
    {
     "name": "stdout",
     "output_type": "stream",
     "text": [
      "apple\n",
      "banana\n",
      "cherry\n",
      "--\n",
      "apple\n",
      "banana\n",
      "cherry\n",
      "limão\n",
      "---\n",
      "apple\n",
      "banana\n",
      "cherry\n",
      "limão\n",
      "limão\n"
     ]
    }
   ],
   "source": [
    "frutas = [\"apple\", \"banana\", \"cherry\"]\n",
    "for f in frutas:\n",
    "    print(f)\n",
    "\n",
    "print(\"--\")\n",
    "frutas.append(\"limão\")    \n",
    "for i in range(len(frutas)):\n",
    "    print(frutas[i])\n",
    "\n",
    "print(\"---\")\n",
    "frutas.append(\"limão\") \n",
    "f = 0\n",
    "while f < len(frutas):\n",
    "    print(frutas[f])\n",
    "    f = f + 1\n",
    "\n"
   ]
  },
  {
   "cell_type": "code",
   "execution_count": 41,
   "id": "e8e28421-3967-4575-8cd8-8c76da6de0f7",
   "metadata": {},
   "outputs": [
    {
     "name": "stdout",
     "output_type": "stream",
     "text": [
      "maça\n",
      "apple\n",
      "laranja\n",
      "\n",
      "maça\n",
      "apple\n",
      "laranja\n",
      "goiaba\n",
      "\n",
      "maça\n",
      "laranja\n",
      "goiaba\n",
      "apple\n",
      "\n",
      "maça\n",
      "apple\n",
      "laranja\n",
      "goiaba\n"
     ]
    }
   ],
   "source": [
    "def imprimir(lista):\n",
    "    for i in lista:\n",
    "        print(i)\n",
    "        \n",
    "\n",
    "frutas = [\"maça\",\"apple\",\"laranja\"]\n",
    "imprimir(frutas)\n",
    "print(\"\")\n",
    "\n",
    "frutas.append(\"goiaba\")\n",
    "imprimir(frutas)\n",
    "print(\"\")\n",
    "\n",
    "#frutas.sort()\n",
    "#imprimir(frutas)\n",
    "ordenado = sorted(frutas, reverse=True)\n",
    "imprimir(ordenado)\n",
    "\n",
    "print(\"\")\n",
    "imprimir(frutas)\n"
   ]
  },
  {
   "cell_type": "code",
   "execution_count": null,
   "id": "a453d28e-422a-4f1d-ac56-d33165d47b95",
   "metadata": {},
   "outputs": [],
   "source": []
  },
  {
   "cell_type": "code",
   "execution_count": 60,
   "id": "8d22f6ea-556d-4f7d-9435-554eb7b0c5d2",
   "metadata": {},
   "outputs": [
    {
     "name": "stdout",
     "output_type": "stream",
     "text": [
      "apple\n",
      "banana\n",
      "cherry\n",
      "um\n",
      "dois\n"
     ]
    }
   ],
   "source": [
    "mylist = [\"apple\", \"banana\", \"cherry\"]\n",
    "#print(mylist[0])\n",
    "#mylist[0] = \"laranja\"\n",
    "#print(mylist[0])\n",
    "imprimir(mylist)\n",
    "\n",
    "myTuple = (\"um\",\"dois\")\n",
    "#myTuple.append(\"tres\")\n",
    "#print(myTuple[0])\n",
    "#myTuple[0] = \"tres\"\n",
    "imprimir(myTuple)"
   ]
  },
  {
   "cell_type": "markdown",
   "id": "7ec6aee6-f758-447d-ac43-ae48924d4602",
   "metadata": {},
   "source": [
    "minhaTupla = (\"azul\",\"vermelho\",\"verde\")\n",
    "list_temp = list(minhaTupla)\n",
    "\n",
    "list_temp.append(\"Amarelo\")\n",
    "minhaTupla = tuple(list_temp)\n",
    "\n",
    "imprimir(minhaTupla)"
   ]
  },
  {
   "cell_type": "markdown",
   "id": "db525a77-16cb-447f-a096-9f1c21190e2d",
   "metadata": {},
   "source": [
    "**Exercicio 1:**Crie um programa que receba uma lista de numeros. Calcule a média, máximo, mínimo e amplitude (diferença entre máximo e minimo)\n"
   ]
  },
  {
   "cell_type": "code",
   "execution_count": null,
   "id": "b7dfe00c-59fd-4cfc-9941-e3fa34112c3e",
   "metadata": {},
   "outputs": [],
   "source": []
  }
 ],
 "metadata": {
  "kernelspec": {
   "display_name": "Python 3 (ipykernel)",
   "language": "python",
   "name": "python3"
  },
  "language_info": {
   "codemirror_mode": {
    "name": "ipython",
    "version": 3
   },
   "file_extension": ".py",
   "mimetype": "text/x-python",
   "name": "python",
   "nbconvert_exporter": "python",
   "pygments_lexer": "ipython3",
   "version": "3.12.6"
  }
 },
 "nbformat": 4,
 "nbformat_minor": 5
}
