{
 "cells": [
  {
   "cell_type": "code",
   "execution_count": 3,
   "id": "35496cda-5af5-4c77-9311-f6531b1a244e",
   "metadata": {},
   "outputs": [
    {
     "name": "stdout",
     "output_type": "stream",
     "text": [
      "1\n",
      "2\n",
      "3\n"
     ]
    }
   ],
   "source": [
    "def imprimir(lista):\n",
    "    for x in lista:\n",
    "        print(x)\n",
    "\n",
    "imprimir([1,2,3])"
   ]
  },
  {
   "cell_type": "code",
   "execution_count": 10,
   "id": "1f06a3fe-bae5-40f3-bf4d-dfd84c4ce83f",
   "metadata": {},
   "outputs": [
    {
     "name": "stdin",
     "output_type": "stream",
     "text": [
      "Digite numeros separado por espaço 10 20 30\n"
     ]
    },
    {
     "name": "stdout",
     "output_type": "stream",
     "text": [
      "Média: 20.0\n",
      "Màximo:  30.0\n",
      "Minimo:  10.0\n",
      "Amplitude:  20.0\n"
     ]
    }
   ],
   "source": [
    "entrada = input(\"Digite numeros separado por espaço\")\n",
    "numeros = [float(n) for n in entrada.split()]\n",
    "\n",
    "media = sum(numeros)/len(numeros)\n",
    "print(f\"Média: {media:.1f}\")\n",
    "print(f\"Màximo: \", max(numeros))\n",
    "print(f\"Minimo: \", min(numeros))\n",
    "print(f\"Amplitude: \", max(numeros) - min(numeros))\n"
   ]
  },
  {
   "cell_type": "code",
   "execution_count": 17,
   "id": "4ba6f16d-0b4b-4acf-94c9-a9daeab761db",
   "metadata": {},
   "outputs": [
    {
     "name": "stdout",
     "output_type": "stream",
     "text": [
      "Ford\n",
      "['red', 'white', 'blue']\n",
      "white\n",
      "red\n"
     ]
    }
   ],
   "source": [
    "thisdict = {\n",
    "  \"brand\": \"Ford\",\n",
    "  \"model\": \"Mustang\",\n",
    "  \"year\": 1964,\n",
    "  \"colors\": [\"red\", \"white\", \"blue\"]\n",
    "}\n",
    "\n",
    "print(thisdict.get(\"brand\"))\n",
    "print(thisdict.get(\"colors\"))\n",
    "\n",
    "listaCores = thisdict.get(\"colors\")\n",
    "print(listaCores[1])\n",
    "\n",
    "print(thisdict.get(\"colors\")[0])"
   ]
  },
  {
   "cell_type": "markdown",
   "id": "ee6f129e-de73-4c14-9e09-b7e025c6008d",
   "metadata": {},
   "source": [
    "**Exercicio 2: ** crie um dicionário com 3 notas de 5 alunos; Exibir todos os alunos e suas respectivas notas; Mostrar somente alunos com nota acima de 7; permitir ao aluno digitar seu nome e mostrar suas notas."
   ]
  },
  {
   "cell_type": "code",
   "execution_count": 23,
   "id": "af5a6e01-1ae6-4591-8b2b-387b26f24215",
   "metadata": {},
   "outputs": [
    {
     "name": "stdout",
     "output_type": "stream",
     "text": [
      "Nomes e respectivas notas\n",
      "Ana [8.5, 7.0, 9.0]\n",
      "Bruno [6.0, 6.5, 7.5]\n",
      "Carla [9.0, 8.5, 9, 5]\n",
      "Alunos com notas acima de 7\n",
      "Ana 8.2\n",
      "Carla 7.9\n"
     ]
    },
    {
     "name": "stdin",
     "output_type": "stream",
     "text": [
      "Digite nome do aluno Pedro\n"
     ]
    },
    {
     "name": "stdout",
     "output_type": "stream",
     "text": [
      "aluno não encontrado\n"
     ]
    }
   ],
   "source": [
    "alunos = {\n",
    "     \"Ana\":[8.5, 7.0, 9.0],\n",
    "     \"Bruno\": [6.0, 6.5, 7.5],\n",
    "     \"Carla\":[9.0,8.5,9,5]    \n",
    "}\n",
    "\n",
    "print(\"Nomes e respectivas notas\")\n",
    "for nome, notas in alunos.items():\n",
    "    print(f\"{nome} {notas}\")\n",
    "\n",
    "print(\"Alunos com notas acima de 7\")\n",
    "for nome, notas in alunos.items():\n",
    "    media = sum(notas)/len(notas)\n",
    "    if(media > 7):\n",
    "        print(f\"{nome} {media:.1f}\")\n",
    "\n",
    "busca = input(\"Digite nome do aluno\")\n",
    "if busca in alunos:\n",
    "    notas = alunos[busca]\n",
    "    media = sum(notas)/len(notas)\n",
    "\n",
    "    print(f\"{busca} {media} {notas} \")\n",
    "else:\n",
    "    print(\"aluno não encontrado\")\n",
    "    "
   ]
  },
  {
   "cell_type": "code",
   "execution_count": null,
   "id": "48f9f867-cda9-440d-aeba-d5aa4d7e6a22",
   "metadata": {},
   "outputs": [],
   "source": []
  }
 ],
 "metadata": {
  "kernelspec": {
   "display_name": "Python 3 (ipykernel)",
   "language": "python",
   "name": "python3"
  },
  "language_info": {
   "codemirror_mode": {
    "name": "ipython",
    "version": 3
   },
   "file_extension": ".py",
   "mimetype": "text/x-python",
   "name": "python",
   "nbconvert_exporter": "python",
   "pygments_lexer": "ipython3",
   "version": "3.12.6"
  }
 },
 "nbformat": 4,
 "nbformat_minor": 5
}
