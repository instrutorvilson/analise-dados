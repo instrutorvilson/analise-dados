{
 "cells": [
  {
   "cell_type": "code",
   "execution_count": 3,
   "id": "35496cda-5af5-4c77-9311-f6531b1a244e",
   "metadata": {},
   "outputs": [
    {
     "name": "stdout",
     "output_type": "stream",
     "text": [
      "1\n",
      "2\n",
      "3\n"
     ]
    }
   ],
   "source": [
    "def imprimir(lista):\n",
    "    for x in lista:\n",
    "        print(x)\n",
    "\n",
    "imprimir([1,2,3])"
   ]
  },
  {
   "cell_type": "code",
   "execution_count": 10,
   "id": "1f06a3fe-bae5-40f3-bf4d-dfd84c4ce83f",
   "metadata": {},
   "outputs": [
    {
     "name": "stdin",
     "output_type": "stream",
     "text": [
      "Digite numeros separado por espaço 10 20 30\n"
     ]
    },
    {
     "name": "stdout",
     "output_type": "stream",
     "text": [
      "Média: 20.0\n",
      "Màximo:  30.0\n",
      "Minimo:  10.0\n",
      "Amplitude:  20.0\n"
     ]
    }
   ],
   "source": [
    "entrada = input(\"Digite numeros separado por espaço\")\n",
    "numeros = [float(n) for n in entrada.split()]\n",
    "\n",
    "media = sum(numeros)/len(numeros)\n",
    "print(f\"Média: {media:.1f}\")\n",
    "print(f\"Màximo: \", max(numeros))\n",
    "print(f\"Minimo: \", min(numeros))\n",
    "print(f\"Amplitude: \", max(numeros) - min(numeros))\n"
   ]
  },
  {
   "cell_type": "code",
   "execution_count": 17,
   "id": "4ba6f16d-0b4b-4acf-94c9-a9daeab761db",
   "metadata": {},
   "outputs": [
    {
     "name": "stdout",
     "output_type": "stream",
     "text": [
      "Ford\n",
      "['red', 'white', 'blue']\n",
      "white\n",
      "red\n"
     ]
    }
   ],
   "source": [
    "thisdict = {\n",
    "  \"brand\": \"Ford\",\n",
    "  \"model\": \"Mustang\",\n",
    "  \"year\": 1964,\n",
    "  \"colors\": [\"red\", \"white\", \"blue\"]\n",
    "}\n",
    "\n",
    "print(thisdict.get(\"brand\"))\n",
    "print(thisdict.get(\"colors\"))\n",
    "\n",
    "listaCores = thisdict.get(\"colors\")\n",
    "print(listaCores[1])\n",
    "\n",
    "print(thisdict.get(\"colors\")[0])"
   ]
  },
  {
   "cell_type": "markdown",
   "id": "ee6f129e-de73-4c14-9e09-b7e025c6008d",
   "metadata": {},
   "source": [
    "**Exercicio 2: ** crie um dicionário com 3 notas de 5 alunos; Exibir todos os alunos e suas respectivas notas; Mostrar somente alunos com nota acima de 7; permitir ao aluno digitar seu nome e mostrar suas notas."
   ]
  },
  {
   "cell_type": "code",
   "execution_count": null,
   "id": "af5a6e01-1ae6-4591-8b2b-387b26f24215",
   "metadata": {},
   "outputs": [],
   "source": []
  }
 ],
 "metadata": {
  "kernelspec": {
   "display_name": "Python 3 (ipykernel)",
   "language": "python",
   "name": "python3"
  },
  "language_info": {
   "codemirror_mode": {
    "name": "ipython",
    "version": 3
   },
   "file_extension": ".py",
   "mimetype": "text/x-python",
   "name": "python",
   "nbconvert_exporter": "python",
   "pygments_lexer": "ipython3",
   "version": "3.12.6"
  }
 },
 "nbformat": 4,
 "nbformat_minor": 5
}
